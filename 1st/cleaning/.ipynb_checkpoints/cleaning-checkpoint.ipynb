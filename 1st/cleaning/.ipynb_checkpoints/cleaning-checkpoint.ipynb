{
 "cells": [
  {
   "cell_type": "markdown",
   "metadata": {},
   "source": [
    "# Gather"
   ]
  },
  {
   "cell_type": "code",
   "execution_count": 27,
   "metadata": {},
   "outputs": [],
   "source": [
    "import pandas as pd\n",
    "import numpy as np"
   ]
  },
  {
   "cell_type": "code",
   "execution_count": 2,
   "metadata": {},
   "outputs": [],
   "source": [
    "patients = pd.read_csv('patients.csv')\n",
    "treatments = pd.read_csv('treatments.csv')\n",
    "adverse_reactions = pd.read_csv('adverse_reactions.csv')"
   ]
  },
  {
   "cell_type": "markdown",
   "metadata": {},
   "source": [
    "# Assess"
   ]
  },
  {
   "cell_type": "code",
   "execution_count": 3,
   "metadata": {},
   "outputs": [
    {
     "data": {
      "text/html": [
       "<div>\n",
       "<style scoped>\n",
       "    .dataframe tbody tr th:only-of-type {\n",
       "        vertical-align: middle;\n",
       "    }\n",
       "\n",
       "    .dataframe tbody tr th {\n",
       "        vertical-align: top;\n",
       "    }\n",
       "\n",
       "    .dataframe thead th {\n",
       "        text-align: right;\n",
       "    }\n",
       "</style>\n",
       "<table border=\"1\" class=\"dataframe\">\n",
       "  <thead>\n",
       "    <tr style=\"text-align: right;\">\n",
       "      <th></th>\n",
       "      <th>patient_id</th>\n",
       "      <th>assigned_sex</th>\n",
       "      <th>given_name</th>\n",
       "      <th>surname</th>\n",
       "      <th>address</th>\n",
       "      <th>city</th>\n",
       "      <th>state</th>\n",
       "      <th>zip_code</th>\n",
       "      <th>country</th>\n",
       "      <th>contact</th>\n",
       "      <th>birthdate</th>\n",
       "      <th>weight</th>\n",
       "      <th>height</th>\n",
       "      <th>bmi</th>\n",
       "    </tr>\n",
       "  </thead>\n",
       "  <tbody>\n",
       "    <tr>\n",
       "      <th>0</th>\n",
       "      <td>1</td>\n",
       "      <td>female</td>\n",
       "      <td>Zoe</td>\n",
       "      <td>Wellish</td>\n",
       "      <td>576 Brown Bear Drive</td>\n",
       "      <td>Rancho California</td>\n",
       "      <td>California</td>\n",
       "      <td>92390.0</td>\n",
       "      <td>United States</td>\n",
       "      <td>951-719-9170ZoeWellish@superrito.com</td>\n",
       "      <td>7/10/1976</td>\n",
       "      <td>121.7</td>\n",
       "      <td>66</td>\n",
       "      <td>19.6</td>\n",
       "    </tr>\n",
       "    <tr>\n",
       "      <th>1</th>\n",
       "      <td>2</td>\n",
       "      <td>female</td>\n",
       "      <td>Pamela</td>\n",
       "      <td>Hill</td>\n",
       "      <td>2370 University Hill Road</td>\n",
       "      <td>Armstrong</td>\n",
       "      <td>Illinois</td>\n",
       "      <td>61812.0</td>\n",
       "      <td>United States</td>\n",
       "      <td>PamelaSHill@cuvox.de+1 (217) 569-3204</td>\n",
       "      <td>4/3/1967</td>\n",
       "      <td>118.8</td>\n",
       "      <td>66</td>\n",
       "      <td>19.2</td>\n",
       "    </tr>\n",
       "    <tr>\n",
       "      <th>2</th>\n",
       "      <td>3</td>\n",
       "      <td>male</td>\n",
       "      <td>Jae</td>\n",
       "      <td>Debord</td>\n",
       "      <td>1493 Poling Farm Road</td>\n",
       "      <td>York</td>\n",
       "      <td>Nebraska</td>\n",
       "      <td>68467.0</td>\n",
       "      <td>United States</td>\n",
       "      <td>402-363-6804JaeMDebord@gustr.com</td>\n",
       "      <td>2/19/1980</td>\n",
       "      <td>177.8</td>\n",
       "      <td>71</td>\n",
       "      <td>24.8</td>\n",
       "    </tr>\n",
       "    <tr>\n",
       "      <th>3</th>\n",
       "      <td>4</td>\n",
       "      <td>male</td>\n",
       "      <td>Liêm</td>\n",
       "      <td>Phan</td>\n",
       "      <td>2335 Webster Street</td>\n",
       "      <td>Woodbridge</td>\n",
       "      <td>NJ</td>\n",
       "      <td>7095.0</td>\n",
       "      <td>United States</td>\n",
       "      <td>PhanBaLiem@jourrapide.com+1 (732) 636-8246</td>\n",
       "      <td>7/26/1951</td>\n",
       "      <td>220.9</td>\n",
       "      <td>70</td>\n",
       "      <td>31.7</td>\n",
       "    </tr>\n",
       "    <tr>\n",
       "      <th>4</th>\n",
       "      <td>5</td>\n",
       "      <td>male</td>\n",
       "      <td>Tim</td>\n",
       "      <td>Neudorf</td>\n",
       "      <td>1428 Turkey Pen Lane</td>\n",
       "      <td>Dothan</td>\n",
       "      <td>AL</td>\n",
       "      <td>36303.0</td>\n",
       "      <td>United States</td>\n",
       "      <td>334-515-7487TimNeudorf@cuvox.de</td>\n",
       "      <td>2/18/1928</td>\n",
       "      <td>192.3</td>\n",
       "      <td>27</td>\n",
       "      <td>26.1</td>\n",
       "    </tr>\n",
       "  </tbody>\n",
       "</table>\n",
       "</div>"
      ],
      "text/plain": [
       "   patient_id assigned_sex given_name  surname                    address  \\\n",
       "0           1       female        Zoe  Wellish       576 Brown Bear Drive   \n",
       "1           2       female     Pamela     Hill  2370 University Hill Road   \n",
       "2           3         male        Jae   Debord      1493 Poling Farm Road   \n",
       "3           4         male       Liêm     Phan        2335 Webster Street   \n",
       "4           5         male        Tim  Neudorf       1428 Turkey Pen Lane   \n",
       "\n",
       "                city       state  zip_code        country  \\\n",
       "0  Rancho California  California   92390.0  United States   \n",
       "1          Armstrong    Illinois   61812.0  United States   \n",
       "2               York    Nebraska   68467.0  United States   \n",
       "3         Woodbridge          NJ    7095.0  United States   \n",
       "4             Dothan          AL   36303.0  United States   \n",
       "\n",
       "                                      contact  birthdate  weight  height   bmi  \n",
       "0        951-719-9170ZoeWellish@superrito.com  7/10/1976   121.7      66  19.6  \n",
       "1       PamelaSHill@cuvox.de+1 (217) 569-3204   4/3/1967   118.8      66  19.2  \n",
       "2            402-363-6804JaeMDebord@gustr.com  2/19/1980   177.8      71  24.8  \n",
       "3  PhanBaLiem@jourrapide.com+1 (732) 636-8246  7/26/1951   220.9      70  31.7  \n",
       "4             334-515-7487TimNeudorf@cuvox.de  2/18/1928   192.3      27  26.1  "
      ]
     },
     "execution_count": 3,
     "metadata": {},
     "output_type": "execute_result"
    }
   ],
   "source": [
    "patients.head()"
   ]
  },
  {
   "cell_type": "code",
   "execution_count": 4,
   "metadata": {},
   "outputs": [
    {
     "data": {
      "text/html": [
       "<div>\n",
       "<style scoped>\n",
       "    .dataframe tbody tr th:only-of-type {\n",
       "        vertical-align: middle;\n",
       "    }\n",
       "\n",
       "    .dataframe tbody tr th {\n",
       "        vertical-align: top;\n",
       "    }\n",
       "\n",
       "    .dataframe thead th {\n",
       "        text-align: right;\n",
       "    }\n",
       "</style>\n",
       "<table border=\"1\" class=\"dataframe\">\n",
       "  <thead>\n",
       "    <tr style=\"text-align: right;\">\n",
       "      <th></th>\n",
       "      <th>given_name</th>\n",
       "      <th>surname</th>\n",
       "      <th>auralin</th>\n",
       "      <th>novodra</th>\n",
       "      <th>hba1c_start</th>\n",
       "      <th>hba1c_end</th>\n",
       "      <th>hba1c_change</th>\n",
       "    </tr>\n",
       "  </thead>\n",
       "  <tbody>\n",
       "    <tr>\n",
       "      <th>0</th>\n",
       "      <td>veronika</td>\n",
       "      <td>jindrová</td>\n",
       "      <td>41u - 48u</td>\n",
       "      <td>-</td>\n",
       "      <td>7.63</td>\n",
       "      <td>7.20</td>\n",
       "      <td>NaN</td>\n",
       "    </tr>\n",
       "    <tr>\n",
       "      <th>1</th>\n",
       "      <td>elliot</td>\n",
       "      <td>richardson</td>\n",
       "      <td>-</td>\n",
       "      <td>40u - 45u</td>\n",
       "      <td>7.56</td>\n",
       "      <td>7.09</td>\n",
       "      <td>0.97</td>\n",
       "    </tr>\n",
       "    <tr>\n",
       "      <th>2</th>\n",
       "      <td>yukitaka</td>\n",
       "      <td>takenaka</td>\n",
       "      <td>-</td>\n",
       "      <td>39u - 36u</td>\n",
       "      <td>7.68</td>\n",
       "      <td>7.25</td>\n",
       "      <td>NaN</td>\n",
       "    </tr>\n",
       "    <tr>\n",
       "      <th>3</th>\n",
       "      <td>skye</td>\n",
       "      <td>gormanston</td>\n",
       "      <td>33u - 36u</td>\n",
       "      <td>-</td>\n",
       "      <td>7.97</td>\n",
       "      <td>7.62</td>\n",
       "      <td>0.35</td>\n",
       "    </tr>\n",
       "    <tr>\n",
       "      <th>4</th>\n",
       "      <td>alissa</td>\n",
       "      <td>montez</td>\n",
       "      <td>-</td>\n",
       "      <td>33u - 29u</td>\n",
       "      <td>7.78</td>\n",
       "      <td>7.46</td>\n",
       "      <td>0.32</td>\n",
       "    </tr>\n",
       "  </tbody>\n",
       "</table>\n",
       "</div>"
      ],
      "text/plain": [
       "  given_name     surname    auralin    novodra  hba1c_start  hba1c_end  \\\n",
       "0   veronika    jindrová  41u - 48u          -         7.63       7.20   \n",
       "1     elliot  richardson          -  40u - 45u         7.56       7.09   \n",
       "2   yukitaka    takenaka          -  39u - 36u         7.68       7.25   \n",
       "3       skye  gormanston  33u - 36u          -         7.97       7.62   \n",
       "4     alissa      montez          -  33u - 29u         7.78       7.46   \n",
       "\n",
       "   hba1c_change  \n",
       "0           NaN  \n",
       "1          0.97  \n",
       "2           NaN  \n",
       "3          0.35  \n",
       "4          0.32  "
      ]
     },
     "execution_count": 4,
     "metadata": {},
     "output_type": "execute_result"
    }
   ],
   "source": [
    "treatments.head()"
   ]
  },
  {
   "cell_type": "code",
   "execution_count": 5,
   "metadata": {},
   "outputs": [
    {
     "data": {
      "text/html": [
       "<div>\n",
       "<style scoped>\n",
       "    .dataframe tbody tr th:only-of-type {\n",
       "        vertical-align: middle;\n",
       "    }\n",
       "\n",
       "    .dataframe tbody tr th {\n",
       "        vertical-align: top;\n",
       "    }\n",
       "\n",
       "    .dataframe thead th {\n",
       "        text-align: right;\n",
       "    }\n",
       "</style>\n",
       "<table border=\"1\" class=\"dataframe\">\n",
       "  <thead>\n",
       "    <tr style=\"text-align: right;\">\n",
       "      <th></th>\n",
       "      <th>given_name</th>\n",
       "      <th>surname</th>\n",
       "      <th>adverse_reaction</th>\n",
       "    </tr>\n",
       "  </thead>\n",
       "  <tbody>\n",
       "    <tr>\n",
       "      <th>0</th>\n",
       "      <td>berta</td>\n",
       "      <td>napolitani</td>\n",
       "      <td>injection site discomfort</td>\n",
       "    </tr>\n",
       "    <tr>\n",
       "      <th>1</th>\n",
       "      <td>lena</td>\n",
       "      <td>baer</td>\n",
       "      <td>hypoglycemia</td>\n",
       "    </tr>\n",
       "    <tr>\n",
       "      <th>2</th>\n",
       "      <td>joseph</td>\n",
       "      <td>day</td>\n",
       "      <td>hypoglycemia</td>\n",
       "    </tr>\n",
       "    <tr>\n",
       "      <th>3</th>\n",
       "      <td>flavia</td>\n",
       "      <td>fiorentino</td>\n",
       "      <td>cough</td>\n",
       "    </tr>\n",
       "    <tr>\n",
       "      <th>4</th>\n",
       "      <td>manouck</td>\n",
       "      <td>wubbels</td>\n",
       "      <td>throat irritation</td>\n",
       "    </tr>\n",
       "  </tbody>\n",
       "</table>\n",
       "</div>"
      ],
      "text/plain": [
       "  given_name     surname           adverse_reaction\n",
       "0      berta  napolitani  injection site discomfort\n",
       "1       lena        baer               hypoglycemia\n",
       "2     joseph         day               hypoglycemia\n",
       "3     flavia  fiorentino                      cough\n",
       "4    manouck     wubbels          throat irritation"
      ]
     },
     "execution_count": 5,
     "metadata": {},
     "output_type": "execute_result"
    }
   ],
   "source": [
    "adverse_reactions.head()"
   ]
  },
  {
   "cell_type": "markdown",
   "metadata": {},
   "source": [
    "### Quality\n",
    "\n",
    "##### `patients` table: \n",
    "- Zip code is a float not a string\n",
    "- Zip code has four digits sometimes\n",
    "- Tim Neudorf height is 27 in instead of 72 in\n",
    "- Full state name sometimes, abbreviations other times\n",
    "- Dsavid Gustafsson\n",
    "- Missing demographic information (adress - contact column)\n",
    "- Erroneous Datatypes (assigned sex, state, zipcode and birthday columns)\n",
    "- Multiple phone formats\n",
    "- Default John Doe Data\n",
    "- Jake Jakobson, Gerstsen and Taylor duplicated\n",
    "- 48.8 is KG, not LBS\n",
    "\n",
    "##### `treatments` table: \n",
    "- Missing hba1c changes\n",
    "- The letter `u` in starting and ending doses for Auralin and Novodra\n",
    "- Lower case `given_name` and `surname`\n",
    "- Missing records (280 instead of 350)\n",
    "- Erroneous Datatypes (Auralin and Novodra Columns)\n",
    "- Inaccurate hbA1c changes (4s mistaken as 9s)\n",
    "- Nulls represented as dashes (-) in auralin and novodra\n",
    "\n",
    "##### `adverse_reactions` table: \n",
    "- Lower case `given_name` and `surname`"
   ]
  },
  {
   "cell_type": "markdown",
   "metadata": {},
   "source": [
    "### Tidiness\n",
    "\n",
    "##### `patients` table: \n",
    "- Contact column should be split into phone number and email\n",
    "\n",
    "##### `treatments` table: \n",
    "- Three variables in two columns (Auralin and Novodra instead of Treatment, start_dose and end_dose)\n",
    "- Given name and surname columns in `patients` table duplicated in `treatments` and `adverse_reactions` tables  and Lowercase given names and surnames\n",
    "\n",
    "##### `adverse_reactions` table: \n",
    "- Adverse reactions should be part of treatments table"
   ]
  },
  {
   "cell_type": "markdown",
   "metadata": {},
   "source": [
    "# Clean"
   ]
  },
  {
   "cell_type": "code",
   "execution_count": 6,
   "metadata": {},
   "outputs": [],
   "source": [
    "patients_clean = patients.copy()\n",
    "treatments_clean = treatments.copy()\n",
    "adverse_reactions_clean = adverse_reactions.copy()"
   ]
  },
  {
   "cell_type": "markdown",
   "metadata": {},
   "source": [
    "## Missing data\n",
    "\n",
    "##### `treatments`: Missing records (280 instead of 350)"
   ]
  },
  {
   "cell_type": "markdown",
   "metadata": {},
   "source": [
    "#### Define\n",
    "Import `treatments_cut` into a DataFrame and concatenate it with the original `treatments` DataFrame"
   ]
  },
  {
   "cell_type": "markdown",
   "metadata": {},
   "source": [
    "#### Code"
   ]
  },
  {
   "cell_type": "code",
   "execution_count": 7,
   "metadata": {},
   "outputs": [],
   "source": [
    "treatments_cut = pd.read_csv('treatments_cut.csv')\n",
    "treatments_clean = pd.concat([treatments_clean, treatments_cut],\n",
    "                            ignore_index=True)"
   ]
  },
  {
   "cell_type": "markdown",
   "metadata": {},
   "source": [
    "#### Test"
   ]
  },
  {
   "cell_type": "code",
   "execution_count": 8,
   "metadata": {},
   "outputs": [
    {
     "data": {
      "text/html": [
       "<div>\n",
       "<style scoped>\n",
       "    .dataframe tbody tr th:only-of-type {\n",
       "        vertical-align: middle;\n",
       "    }\n",
       "\n",
       "    .dataframe tbody tr th {\n",
       "        vertical-align: top;\n",
       "    }\n",
       "\n",
       "    .dataframe thead th {\n",
       "        text-align: right;\n",
       "    }\n",
       "</style>\n",
       "<table border=\"1\" class=\"dataframe\">\n",
       "  <thead>\n",
       "    <tr style=\"text-align: right;\">\n",
       "      <th></th>\n",
       "      <th>given_name</th>\n",
       "      <th>surname</th>\n",
       "      <th>auralin</th>\n",
       "      <th>novodra</th>\n",
       "      <th>hba1c_start</th>\n",
       "      <th>hba1c_end</th>\n",
       "      <th>hba1c_change</th>\n",
       "    </tr>\n",
       "  </thead>\n",
       "  <tbody>\n",
       "    <tr>\n",
       "      <th>0</th>\n",
       "      <td>veronika</td>\n",
       "      <td>jindrová</td>\n",
       "      <td>41u - 48u</td>\n",
       "      <td>-</td>\n",
       "      <td>7.63</td>\n",
       "      <td>7.20</td>\n",
       "      <td>NaN</td>\n",
       "    </tr>\n",
       "    <tr>\n",
       "      <th>1</th>\n",
       "      <td>elliot</td>\n",
       "      <td>richardson</td>\n",
       "      <td>-</td>\n",
       "      <td>40u - 45u</td>\n",
       "      <td>7.56</td>\n",
       "      <td>7.09</td>\n",
       "      <td>0.97</td>\n",
       "    </tr>\n",
       "    <tr>\n",
       "      <th>2</th>\n",
       "      <td>yukitaka</td>\n",
       "      <td>takenaka</td>\n",
       "      <td>-</td>\n",
       "      <td>39u - 36u</td>\n",
       "      <td>7.68</td>\n",
       "      <td>7.25</td>\n",
       "      <td>NaN</td>\n",
       "    </tr>\n",
       "    <tr>\n",
       "      <th>3</th>\n",
       "      <td>skye</td>\n",
       "      <td>gormanston</td>\n",
       "      <td>33u - 36u</td>\n",
       "      <td>-</td>\n",
       "      <td>7.97</td>\n",
       "      <td>7.62</td>\n",
       "      <td>0.35</td>\n",
       "    </tr>\n",
       "    <tr>\n",
       "      <th>4</th>\n",
       "      <td>alissa</td>\n",
       "      <td>montez</td>\n",
       "      <td>-</td>\n",
       "      <td>33u - 29u</td>\n",
       "      <td>7.78</td>\n",
       "      <td>7.46</td>\n",
       "      <td>0.32</td>\n",
       "    </tr>\n",
       "  </tbody>\n",
       "</table>\n",
       "</div>"
      ],
      "text/plain": [
       "  given_name     surname    auralin    novodra  hba1c_start  hba1c_end  \\\n",
       "0   veronika    jindrová  41u - 48u          -         7.63       7.20   \n",
       "1     elliot  richardson          -  40u - 45u         7.56       7.09   \n",
       "2   yukitaka    takenaka          -  39u - 36u         7.68       7.25   \n",
       "3       skye  gormanston  33u - 36u          -         7.97       7.62   \n",
       "4     alissa      montez          -  33u - 29u         7.78       7.46   \n",
       "\n",
       "   hba1c_change  \n",
       "0           NaN  \n",
       "1          0.97  \n",
       "2           NaN  \n",
       "3          0.35  \n",
       "4          0.32  "
      ]
     },
     "execution_count": 8,
     "metadata": {},
     "output_type": "execute_result"
    }
   ],
   "source": [
    "treatments_clean.head()"
   ]
  },
  {
   "cell_type": "code",
   "execution_count": 9,
   "metadata": {},
   "outputs": [
    {
     "data": {
      "text/html": [
       "<div>\n",
       "<style scoped>\n",
       "    .dataframe tbody tr th:only-of-type {\n",
       "        vertical-align: middle;\n",
       "    }\n",
       "\n",
       "    .dataframe tbody tr th {\n",
       "        vertical-align: top;\n",
       "    }\n",
       "\n",
       "    .dataframe thead th {\n",
       "        text-align: right;\n",
       "    }\n",
       "</style>\n",
       "<table border=\"1\" class=\"dataframe\">\n",
       "  <thead>\n",
       "    <tr style=\"text-align: right;\">\n",
       "      <th></th>\n",
       "      <th>given_name</th>\n",
       "      <th>surname</th>\n",
       "      <th>auralin</th>\n",
       "      <th>novodra</th>\n",
       "      <th>hba1c_start</th>\n",
       "      <th>hba1c_end</th>\n",
       "      <th>hba1c_change</th>\n",
       "    </tr>\n",
       "  </thead>\n",
       "  <tbody>\n",
       "    <tr>\n",
       "      <th>345</th>\n",
       "      <td>rovzan</td>\n",
       "      <td>kishiev</td>\n",
       "      <td>32u - 37u</td>\n",
       "      <td>-</td>\n",
       "      <td>7.75</td>\n",
       "      <td>7.41</td>\n",
       "      <td>0.34</td>\n",
       "    </tr>\n",
       "    <tr>\n",
       "      <th>346</th>\n",
       "      <td>jakob</td>\n",
       "      <td>jakobsen</td>\n",
       "      <td>-</td>\n",
       "      <td>28u - 26u</td>\n",
       "      <td>7.96</td>\n",
       "      <td>7.51</td>\n",
       "      <td>0.95</td>\n",
       "    </tr>\n",
       "    <tr>\n",
       "      <th>347</th>\n",
       "      <td>bernd</td>\n",
       "      <td>schneider</td>\n",
       "      <td>48u - 56u</td>\n",
       "      <td>-</td>\n",
       "      <td>7.74</td>\n",
       "      <td>7.44</td>\n",
       "      <td>0.30</td>\n",
       "    </tr>\n",
       "    <tr>\n",
       "      <th>348</th>\n",
       "      <td>berta</td>\n",
       "      <td>napolitani</td>\n",
       "      <td>-</td>\n",
       "      <td>42u - 44u</td>\n",
       "      <td>7.68</td>\n",
       "      <td>7.21</td>\n",
       "      <td>NaN</td>\n",
       "    </tr>\n",
       "    <tr>\n",
       "      <th>349</th>\n",
       "      <td>armina</td>\n",
       "      <td>sauvé</td>\n",
       "      <td>36u - 46u</td>\n",
       "      <td>-</td>\n",
       "      <td>7.86</td>\n",
       "      <td>7.40</td>\n",
       "      <td>NaN</td>\n",
       "    </tr>\n",
       "  </tbody>\n",
       "</table>\n",
       "</div>"
      ],
      "text/plain": [
       "    given_name     surname    auralin    novodra  hba1c_start  hba1c_end  \\\n",
       "345     rovzan     kishiev  32u - 37u          -         7.75       7.41   \n",
       "346      jakob    jakobsen          -  28u - 26u         7.96       7.51   \n",
       "347      bernd   schneider  48u - 56u          -         7.74       7.44   \n",
       "348      berta  napolitani          -  42u - 44u         7.68       7.21   \n",
       "349     armina       sauvé  36u - 46u          -         7.86       7.40   \n",
       "\n",
       "     hba1c_change  \n",
       "345          0.34  \n",
       "346          0.95  \n",
       "347          0.30  \n",
       "348           NaN  \n",
       "349           NaN  "
      ]
     },
     "execution_count": 9,
     "metadata": {},
     "output_type": "execute_result"
    }
   ],
   "source": [
    "treatments_clean.tail()"
   ]
  },
  {
   "cell_type": "markdown",
   "metadata": {},
   "source": [
    "\n",
    "##### `treatments`: Missing HbA1c changes and Inaccurate HbA1c changes (leading 4s mistaken as 9s)"
   ]
  },
  {
   "cell_type": "markdown",
   "metadata": {},
   "source": [
    "#### Define\n",
    "Recalculate the `hba1c_change` column: `hba1c_start` minus `hba1c_end`. "
   ]
  },
  {
   "cell_type": "markdown",
   "metadata": {},
   "source": [
    "#### Code"
   ]
  },
  {
   "cell_type": "code",
   "execution_count": 10,
   "metadata": {},
   "outputs": [],
   "source": [
    "treatments_clean.hba1c_change = (treatments_clean.hba1c_start - treatments_clean.hba1c_end)"
   ]
  },
  {
   "cell_type": "markdown",
   "metadata": {},
   "source": [
    "#### Test"
   ]
  },
  {
   "cell_type": "code",
   "execution_count": 11,
   "metadata": {},
   "outputs": [
    {
     "data": {
      "text/plain": [
       "0    0.43\n",
       "1    0.47\n",
       "2    0.43\n",
       "3    0.35\n",
       "4    0.32\n",
       "Name: hba1c_change, dtype: float64"
      ]
     },
     "execution_count": 11,
     "metadata": {},
     "output_type": "execute_result"
    }
   ],
   "source": [
    "treatments_clean.hba1c_change.head()"
   ]
  },
  {
   "cell_type": "markdown",
   "metadata": {},
   "source": [
    "## Tidiness"
   ]
  },
  {
   "cell_type": "markdown",
   "metadata": {},
   "source": [
    "##### Contact column in `patients` table contains two variables: phone number and email"
   ]
  },
  {
   "cell_type": "markdown",
   "metadata": {},
   "source": [
    "#### Define"
   ]
  },
  {
   "cell_type": "markdown",
   "metadata": {},
   "source": [
    "Extract the phone number and the email from the contact column using regular expressions and pandas' `str.extract` method. Drop the column when done."
   ]
  },
  {
   "cell_type": "markdown",
   "metadata": {},
   "source": [
    "#### Code "
   ]
  },
  {
   "cell_type": "code",
   "execution_count": 12,
   "metadata": {},
   "outputs": [],
   "source": [
    "patients_clean['phone_number'] = patients_clean.contact.str.extract('((?:\\+\\d{1,2}\\s)?\\(?\\d{3}\\)?[\\s.-]?\\d{3}[\\s.-]?\\d{4})', expand=True)\n",
    "\n",
    "# [a-zA-Z] to signify emails in this dataset all start and end with letters\n",
    "patients_clean['email'] = patients_clean.contact.str.extract('([a-zA-Z][a-zA-Z0-9_.+-]+@[a-zA-Z0-9-]+\\.[a-zA-Z0-9-.]+[a-zA-Z])', expand=True)\n",
    "\n",
    "# To drop the column contact\n",
    "\n",
    "patients_clean = patients_clean.drop('contact', axis=1)"
   ]
  },
  {
   "cell_type": "markdown",
   "metadata": {},
   "source": [
    "#### Test"
   ]
  },
  {
   "cell_type": "code",
   "execution_count": 14,
   "metadata": {},
   "outputs": [
    {
     "data": {
      "text/plain": [
       "['patient_id',\n",
       " 'assigned_sex',\n",
       " 'given_name',\n",
       " 'surname',\n",
       " 'address',\n",
       " 'city',\n",
       " 'state',\n",
       " 'zip_code',\n",
       " 'country',\n",
       " 'birthdate',\n",
       " 'weight',\n",
       " 'height',\n",
       " 'bmi',\n",
       " 'phone_number',\n",
       " 'email']"
      ]
     },
     "execution_count": 14,
     "metadata": {},
     "output_type": "execute_result"
    }
   ],
   "source": [
    "# Confirm contact column is gone\n",
    "list(patients_clean)"
   ]
  },
  {
   "cell_type": "code",
   "execution_count": 16,
   "metadata": {},
   "outputs": [
    {
     "data": {
      "text/plain": [
       "239         228-378-1355\n",
       "63          619-299-1495\n",
       "46          724-419-3583\n",
       "157         920-849-0384\n",
       "80     +1 (646) 621-0640\n",
       "Name: phone_number, dtype: object"
      ]
     },
     "execution_count": 16,
     "metadata": {},
     "output_type": "execute_result"
    }
   ],
   "source": [
    "patients_clean.phone_number.sample(5)"
   ]
  },
  {
   "cell_type": "markdown",
   "metadata": {},
   "source": [
    "##### Three variables in two columns in `treatments` table (treatment, start dose and end dose)\n"
   ]
  },
  {
   "cell_type": "markdown",
   "metadata": {},
   "source": [
    "#### Define"
   ]
  },
  {
   "cell_type": "markdown",
   "metadata": {},
   "source": [
    "Melt the `auralin` and `novodra` columns to a treatment and a dose column (dose will still contain both start and end dose at this point). Then split the dose column on '-'to obtain `start_dose` and `end_dose` columns. Drop the intermediate dose columns"
   ]
  },
  {
   "cell_type": "markdown",
   "metadata": {},
   "source": [
    "#### Code"
   ]
  },
  {
   "cell_type": "code",
   "execution_count": 18,
   "metadata": {},
   "outputs": [],
   "source": [
    "treatments_clean = pd.melt(treatments_clean, id_vars=['given_name', 'surname', 'hba1c_start', 'hba1c_end', 'hba1c_change'], \n",
    "                                            var_name='treatment', value_name='dose')\n",
    "treatments_clean = treatments_clean[treatments_clean.dose !='-']\n",
    "treatments_clean['dose_start'], treatments_clean['dose_end'] = treatments_clean['dose'].str.split(' - ', 1).str\n",
    "treatments_clean = treatments_clean.drop('dose', axis=1)"
   ]
  },
  {
   "cell_type": "markdown",
   "metadata": {},
   "source": [
    "#### Test"
   ]
  },
  {
   "cell_type": "code",
   "execution_count": 19,
   "metadata": {},
   "outputs": [
    {
     "data": {
      "text/html": [
       "<div>\n",
       "<style scoped>\n",
       "    .dataframe tbody tr th:only-of-type {\n",
       "        vertical-align: middle;\n",
       "    }\n",
       "\n",
       "    .dataframe tbody tr th {\n",
       "        vertical-align: top;\n",
       "    }\n",
       "\n",
       "    .dataframe thead th {\n",
       "        text-align: right;\n",
       "    }\n",
       "</style>\n",
       "<table border=\"1\" class=\"dataframe\">\n",
       "  <thead>\n",
       "    <tr style=\"text-align: right;\">\n",
       "      <th></th>\n",
       "      <th>given_name</th>\n",
       "      <th>surname</th>\n",
       "      <th>hba1c_start</th>\n",
       "      <th>hba1c_end</th>\n",
       "      <th>hba1c_change</th>\n",
       "      <th>treatment</th>\n",
       "      <th>dose_start</th>\n",
       "      <th>dose_end</th>\n",
       "    </tr>\n",
       "  </thead>\n",
       "  <tbody>\n",
       "    <tr>\n",
       "      <th>0</th>\n",
       "      <td>veronika</td>\n",
       "      <td>jindrová</td>\n",
       "      <td>7.63</td>\n",
       "      <td>7.20</td>\n",
       "      <td>0.43</td>\n",
       "      <td>auralin</td>\n",
       "      <td>41u</td>\n",
       "      <td>48u</td>\n",
       "    </tr>\n",
       "    <tr>\n",
       "      <th>3</th>\n",
       "      <td>skye</td>\n",
       "      <td>gormanston</td>\n",
       "      <td>7.97</td>\n",
       "      <td>7.62</td>\n",
       "      <td>0.35</td>\n",
       "      <td>auralin</td>\n",
       "      <td>33u</td>\n",
       "      <td>36u</td>\n",
       "    </tr>\n",
       "    <tr>\n",
       "      <th>6</th>\n",
       "      <td>sophia</td>\n",
       "      <td>haugen</td>\n",
       "      <td>7.65</td>\n",
       "      <td>7.27</td>\n",
       "      <td>0.38</td>\n",
       "      <td>auralin</td>\n",
       "      <td>37u</td>\n",
       "      <td>42u</td>\n",
       "    </tr>\n",
       "    <tr>\n",
       "      <th>7</th>\n",
       "      <td>eddie</td>\n",
       "      <td>archer</td>\n",
       "      <td>7.89</td>\n",
       "      <td>7.55</td>\n",
       "      <td>0.34</td>\n",
       "      <td>auralin</td>\n",
       "      <td>31u</td>\n",
       "      <td>38u</td>\n",
       "    </tr>\n",
       "    <tr>\n",
       "      <th>9</th>\n",
       "      <td>asia</td>\n",
       "      <td>woźniak</td>\n",
       "      <td>7.76</td>\n",
       "      <td>7.37</td>\n",
       "      <td>0.39</td>\n",
       "      <td>auralin</td>\n",
       "      <td>30u</td>\n",
       "      <td>36u</td>\n",
       "    </tr>\n",
       "  </tbody>\n",
       "</table>\n",
       "</div>"
      ],
      "text/plain": [
       "  given_name     surname  hba1c_start  hba1c_end  hba1c_change treatment  \\\n",
       "0   veronika    jindrová         7.63       7.20          0.43   auralin   \n",
       "3       skye  gormanston         7.97       7.62          0.35   auralin   \n",
       "6     sophia      haugen         7.65       7.27          0.38   auralin   \n",
       "7      eddie      archer         7.89       7.55          0.34   auralin   \n",
       "9       asia     woźniak         7.76       7.37          0.39   auralin   \n",
       "\n",
       "  dose_start dose_end  \n",
       "0        41u      48u  \n",
       "3        33u      36u  \n",
       "6        37u      42u  \n",
       "7        31u      38u  \n",
       "9        30u      36u  "
      ]
     },
     "execution_count": 19,
     "metadata": {},
     "output_type": "execute_result"
    }
   ],
   "source": [
    "treatments_clean.head()"
   ]
  },
  {
   "cell_type": "markdown",
   "metadata": {},
   "source": [
    "##### Adverse reaction should be part of the `treatments` table"
   ]
  },
  {
   "cell_type": "markdown",
   "metadata": {},
   "source": [
    "#### Define"
   ]
  },
  {
   "cell_type": "markdown",
   "metadata": {},
   "source": [
    "Merge the adverse_reaction column to the `treatments` table, joining on given name and surname"
   ]
  },
  {
   "cell_type": "markdown",
   "metadata": {},
   "source": [
    "#### Code"
   ]
  },
  {
   "cell_type": "code",
   "execution_count": 20,
   "metadata": {},
   "outputs": [],
   "source": [
    "treatments_clean = pd.merge(treatments_clean, adverse_reactions_clean, \n",
    "                           on=['given_name', 'surname'], how='left')"
   ]
  },
  {
   "cell_type": "markdown",
   "metadata": {},
   "source": [
    "#### Test"
   ]
  },
  {
   "cell_type": "code",
   "execution_count": 21,
   "metadata": {},
   "outputs": [
    {
     "data": {
      "text/html": [
       "<div>\n",
       "<style scoped>\n",
       "    .dataframe tbody tr th:only-of-type {\n",
       "        vertical-align: middle;\n",
       "    }\n",
       "\n",
       "    .dataframe tbody tr th {\n",
       "        vertical-align: top;\n",
       "    }\n",
       "\n",
       "    .dataframe thead th {\n",
       "        text-align: right;\n",
       "    }\n",
       "</style>\n",
       "<table border=\"1\" class=\"dataframe\">\n",
       "  <thead>\n",
       "    <tr style=\"text-align: right;\">\n",
       "      <th></th>\n",
       "      <th>given_name</th>\n",
       "      <th>surname</th>\n",
       "      <th>hba1c_start</th>\n",
       "      <th>hba1c_end</th>\n",
       "      <th>hba1c_change</th>\n",
       "      <th>treatment</th>\n",
       "      <th>dose_start</th>\n",
       "      <th>dose_end</th>\n",
       "      <th>adverse_reaction</th>\n",
       "    </tr>\n",
       "  </thead>\n",
       "  <tbody>\n",
       "    <tr>\n",
       "      <th>0</th>\n",
       "      <td>veronika</td>\n",
       "      <td>jindrová</td>\n",
       "      <td>7.63</td>\n",
       "      <td>7.20</td>\n",
       "      <td>0.43</td>\n",
       "      <td>auralin</td>\n",
       "      <td>41u</td>\n",
       "      <td>48u</td>\n",
       "      <td>NaN</td>\n",
       "    </tr>\n",
       "    <tr>\n",
       "      <th>1</th>\n",
       "      <td>skye</td>\n",
       "      <td>gormanston</td>\n",
       "      <td>7.97</td>\n",
       "      <td>7.62</td>\n",
       "      <td>0.35</td>\n",
       "      <td>auralin</td>\n",
       "      <td>33u</td>\n",
       "      <td>36u</td>\n",
       "      <td>NaN</td>\n",
       "    </tr>\n",
       "    <tr>\n",
       "      <th>2</th>\n",
       "      <td>sophia</td>\n",
       "      <td>haugen</td>\n",
       "      <td>7.65</td>\n",
       "      <td>7.27</td>\n",
       "      <td>0.38</td>\n",
       "      <td>auralin</td>\n",
       "      <td>37u</td>\n",
       "      <td>42u</td>\n",
       "      <td>NaN</td>\n",
       "    </tr>\n",
       "    <tr>\n",
       "      <th>3</th>\n",
       "      <td>eddie</td>\n",
       "      <td>archer</td>\n",
       "      <td>7.89</td>\n",
       "      <td>7.55</td>\n",
       "      <td>0.34</td>\n",
       "      <td>auralin</td>\n",
       "      <td>31u</td>\n",
       "      <td>38u</td>\n",
       "      <td>NaN</td>\n",
       "    </tr>\n",
       "    <tr>\n",
       "      <th>4</th>\n",
       "      <td>asia</td>\n",
       "      <td>woźniak</td>\n",
       "      <td>7.76</td>\n",
       "      <td>7.37</td>\n",
       "      <td>0.39</td>\n",
       "      <td>auralin</td>\n",
       "      <td>30u</td>\n",
       "      <td>36u</td>\n",
       "      <td>NaN</td>\n",
       "    </tr>\n",
       "  </tbody>\n",
       "</table>\n",
       "</div>"
      ],
      "text/plain": [
       "  given_name     surname  hba1c_start  hba1c_end  hba1c_change treatment  \\\n",
       "0   veronika    jindrová         7.63       7.20          0.43   auralin   \n",
       "1       skye  gormanston         7.97       7.62          0.35   auralin   \n",
       "2     sophia      haugen         7.65       7.27          0.38   auralin   \n",
       "3      eddie      archer         7.89       7.55          0.34   auralin   \n",
       "4       asia     woźniak         7.76       7.37          0.39   auralin   \n",
       "\n",
       "  dose_start dose_end adverse_reaction  \n",
       "0        41u      48u              NaN  \n",
       "1        33u      36u              NaN  \n",
       "2        37u      42u              NaN  \n",
       "3        31u      38u              NaN  \n",
       "4        30u      36u              NaN  "
      ]
     },
     "execution_count": 21,
     "metadata": {},
     "output_type": "execute_result"
    }
   ],
   "source": [
    "treatments_clean.head()"
   ]
  },
  {
   "cell_type": "markdown",
   "metadata": {},
   "source": [
    "##### Given name and surname columns in `patients` table duplicated in `treatments` and `adverse_reactions` tables  and Lowercase given names and surnames"
   ]
  },
  {
   "cell_type": "markdown",
   "metadata": {},
   "source": [
    "#### Define"
   ]
  },
  {
   "cell_type": "markdown",
   "metadata": {},
   "source": [
    "Adverse reactions table is no longer needed so ignore that part. Isolate the patient ID and names in the `patients`table, then convert these names to lower case to join with `treatments`. Then drop the given name and surname columns in the treatments table (So these being lowercase isn't an issue anymore)"
   ]
  },
  {
   "cell_type": "markdown",
   "metadata": {},
   "source": [
    "#### Code"
   ]
  },
  {
   "cell_type": "code",
   "execution_count": 23,
   "metadata": {},
   "outputs": [
    {
     "name": "stderr",
     "output_type": "stream",
     "text": [
      "/anaconda3/lib/python3.6/site-packages/pandas/core/generic.py:4401: SettingWithCopyWarning: \n",
      "A value is trying to be set on a copy of a slice from a DataFrame.\n",
      "Try using .loc[row_indexer,col_indexer] = value instead\n",
      "\n",
      "See the caveats in the documentation: http://pandas.pydata.org/pandas-docs/stable/indexing.html#indexing-view-versus-copy\n",
      "  self[name] = value\n"
     ]
    }
   ],
   "source": [
    "id_names = patients_clean[['patient_id', 'given_name', 'surname']]\n",
    "id_names.given_name = id_name.given_name.str.lower()\n",
    "id_names.surname = id_names.surname.str.lower()\n",
    "treatments_clean = pd.merge(treatments_clean, id_names, on=['given_name', 'surname'])\n",
    "treatments_clean = treatments_clean.drop(['given_name', 'surname'], axis=1)"
   ]
  },
  {
   "cell_type": "markdown",
   "metadata": {},
   "source": [
    "#### Test"
   ]
  },
  {
   "cell_type": "code",
   "execution_count": 24,
   "metadata": {},
   "outputs": [
    {
     "data": {
      "text/html": [
       "<div>\n",
       "<style scoped>\n",
       "    .dataframe tbody tr th:only-of-type {\n",
       "        vertical-align: middle;\n",
       "    }\n",
       "\n",
       "    .dataframe tbody tr th {\n",
       "        vertical-align: top;\n",
       "    }\n",
       "\n",
       "    .dataframe thead th {\n",
       "        text-align: right;\n",
       "    }\n",
       "</style>\n",
       "<table border=\"1\" class=\"dataframe\">\n",
       "  <thead>\n",
       "    <tr style=\"text-align: right;\">\n",
       "      <th></th>\n",
       "      <th>hba1c_start</th>\n",
       "      <th>hba1c_end</th>\n",
       "      <th>hba1c_change</th>\n",
       "      <th>treatment</th>\n",
       "      <th>dose_start</th>\n",
       "      <th>dose_end</th>\n",
       "      <th>adverse_reaction</th>\n",
       "      <th>patient_id</th>\n",
       "    </tr>\n",
       "  </thead>\n",
       "  <tbody>\n",
       "    <tr>\n",
       "      <th>0</th>\n",
       "      <td>7.63</td>\n",
       "      <td>7.20</td>\n",
       "      <td>0.43</td>\n",
       "      <td>auralin</td>\n",
       "      <td>41u</td>\n",
       "      <td>48u</td>\n",
       "      <td>NaN</td>\n",
       "      <td>225</td>\n",
       "    </tr>\n",
       "    <tr>\n",
       "      <th>1</th>\n",
       "      <td>7.97</td>\n",
       "      <td>7.62</td>\n",
       "      <td>0.35</td>\n",
       "      <td>auralin</td>\n",
       "      <td>33u</td>\n",
       "      <td>36u</td>\n",
       "      <td>NaN</td>\n",
       "      <td>242</td>\n",
       "    </tr>\n",
       "    <tr>\n",
       "      <th>2</th>\n",
       "      <td>7.65</td>\n",
       "      <td>7.27</td>\n",
       "      <td>0.38</td>\n",
       "      <td>auralin</td>\n",
       "      <td>37u</td>\n",
       "      <td>42u</td>\n",
       "      <td>NaN</td>\n",
       "      <td>345</td>\n",
       "    </tr>\n",
       "    <tr>\n",
       "      <th>3</th>\n",
       "      <td>7.89</td>\n",
       "      <td>7.55</td>\n",
       "      <td>0.34</td>\n",
       "      <td>auralin</td>\n",
       "      <td>31u</td>\n",
       "      <td>38u</td>\n",
       "      <td>NaN</td>\n",
       "      <td>276</td>\n",
       "    </tr>\n",
       "    <tr>\n",
       "      <th>4</th>\n",
       "      <td>7.76</td>\n",
       "      <td>7.37</td>\n",
       "      <td>0.39</td>\n",
       "      <td>auralin</td>\n",
       "      <td>30u</td>\n",
       "      <td>36u</td>\n",
       "      <td>NaN</td>\n",
       "      <td>15</td>\n",
       "    </tr>\n",
       "  </tbody>\n",
       "</table>\n",
       "</div>"
      ],
      "text/plain": [
       "   hba1c_start  hba1c_end  hba1c_change treatment dose_start dose_end  \\\n",
       "0         7.63       7.20          0.43   auralin        41u      48u   \n",
       "1         7.97       7.62          0.35   auralin        33u      36u   \n",
       "2         7.65       7.27          0.38   auralin        37u      42u   \n",
       "3         7.89       7.55          0.34   auralin        31u      38u   \n",
       "4         7.76       7.37          0.39   auralin        30u      36u   \n",
       "\n",
       "  adverse_reaction  patient_id  \n",
       "0              NaN         225  \n",
       "1              NaN         242  \n",
       "2              NaN         345  \n",
       "3              NaN         276  \n",
       "4              NaN          15  "
      ]
     },
     "execution_count": 24,
     "metadata": {},
     "output_type": "execute_result"
    }
   ],
   "source": [
    "treatments_clean.head()"
   ]
  },
  {
   "cell_type": "code",
   "execution_count": 25,
   "metadata": {},
   "outputs": [
    {
     "data": {
      "text/plain": [
       "22    patient_id\n",
       "dtype: object"
      ]
     },
     "execution_count": 25,
     "metadata": {},
     "output_type": "execute_result"
    }
   ],
   "source": [
    "# Patient ID should be the only duplicate column\n",
    "\n",
    "all_columns = pd.Series(list(patients_clean) + list(treatments_clean))\n",
    "all_columns[all_columns.duplicated()]"
   ]
  },
  {
   "cell_type": "markdown",
   "metadata": {},
   "source": [
    "## Quality"
   ]
  },
  {
   "cell_type": "markdown",
   "metadata": {},
   "source": [
    "##### Zipcode is a float, not a string and have four digits sometimes"
   ]
  },
  {
   "cell_type": "markdown",
   "metadata": {},
   "source": [
    "#### Define"
   ]
  },
  {
   "cell_type": "markdown",
   "metadata": {},
   "source": [
    "Convert the zip code column's datatype from a float to string, using `astype`, remove '.0' using string slicing and pad four digits zip codes with a leading 0."
   ]
  },
  {
   "cell_type": "markdown",
   "metadata": {},
   "source": [
    "#### Code"
   ]
  },
  {
   "cell_type": "code",
   "execution_count": 29,
   "metadata": {},
   "outputs": [],
   "source": [
    "patients_clean['zip_code'] = patients_clean.zip_code.astype(str).str[:-2].str.pad(5, fillchar='0')\n",
    "\n",
    "patients_clean.zip_code = patients_clean.zip_code.replace('0000n', np.nan)"
   ]
  },
  {
   "cell_type": "markdown",
   "metadata": {},
   "source": [
    "#### Test"
   ]
  },
  {
   "cell_type": "code",
   "execution_count": 30,
   "metadata": {},
   "outputs": [
    {
     "data": {
      "text/plain": [
       "0    92390\n",
       "1    61812\n",
       "2    68467\n",
       "3    07095\n",
       "4    36303\n",
       "Name: zip_code, dtype: object"
      ]
     },
     "execution_count": 30,
     "metadata": {},
     "output_type": "execute_result"
    }
   ],
   "source": [
    "patients_clean.zip_code.head()"
   ]
  },
  {
   "cell_type": "markdown",
   "metadata": {},
   "source": [
    "##### Tim Neudorf height is 27 in instead of 72 in"
   ]
  },
  {
   "cell_type": "markdown",
   "metadata": {},
   "source": [
    "#### Define"
   ]
  },
  {
   "cell_type": "markdown",
   "metadata": {},
   "source": [
    "Replace height for rows in the patients table that have a height of 27 in (there is only one) with 72 in."
   ]
  },
  {
   "cell_type": "markdown",
   "metadata": {},
   "source": [
    "#### Code"
   ]
  },
  {
   "cell_type": "code",
   "execution_count": 33,
   "metadata": {},
   "outputs": [],
   "source": [
    "patients_clean.height = patients_clean.height.replace(27, 72)"
   ]
  },
  {
   "cell_type": "markdown",
   "metadata": {},
   "source": [
    "#### Test"
   ]
  },
  {
   "cell_type": "code",
   "execution_count": 35,
   "metadata": {},
   "outputs": [
    {
     "data": {
      "text/html": [
       "<div>\n",
       "<style scoped>\n",
       "    .dataframe tbody tr th:only-of-type {\n",
       "        vertical-align: middle;\n",
       "    }\n",
       "\n",
       "    .dataframe tbody tr th {\n",
       "        vertical-align: top;\n",
       "    }\n",
       "\n",
       "    .dataframe thead th {\n",
       "        text-align: right;\n",
       "    }\n",
       "</style>\n",
       "<table border=\"1\" class=\"dataframe\">\n",
       "  <thead>\n",
       "    <tr style=\"text-align: right;\">\n",
       "      <th></th>\n",
       "      <th>patient_id</th>\n",
       "      <th>assigned_sex</th>\n",
       "      <th>given_name</th>\n",
       "      <th>surname</th>\n",
       "      <th>address</th>\n",
       "      <th>city</th>\n",
       "      <th>state</th>\n",
       "      <th>zip_code</th>\n",
       "      <th>country</th>\n",
       "      <th>birthdate</th>\n",
       "      <th>weight</th>\n",
       "      <th>height</th>\n",
       "      <th>bmi</th>\n",
       "      <th>phone_number</th>\n",
       "      <th>email</th>\n",
       "    </tr>\n",
       "  </thead>\n",
       "  <tbody>\n",
       "  </tbody>\n",
       "</table>\n",
       "</div>"
      ],
      "text/plain": [
       "Empty DataFrame\n",
       "Columns: [patient_id, assigned_sex, given_name, surname, address, city, state, zip_code, country, birthdate, weight, height, bmi, phone_number, email]\n",
       "Index: []"
      ]
     },
     "execution_count": 35,
     "metadata": {},
     "output_type": "execute_result"
    }
   ],
   "source": [
    "# Should be empty\n",
    "patients_clean[patients_clean.height == 27]"
   ]
  },
  {
   "cell_type": "markdown",
   "metadata": {},
   "source": [
    "##### Full state names sometimes, abbreviations other times"
   ]
  },
  {
   "cell_type": "markdown",
   "metadata": {},
   "source": [
    "#### Define"
   ]
  },
  {
   "cell_type": "markdown",
   "metadata": {},
   "source": [
    "Apply a function that converts full state name to state abbreviation for California, New York, Illinois, Florida and Nebraska."
   ]
  },
  {
   "cell_type": "code",
   "execution_count": 37,
   "metadata": {},
   "outputs": [],
   "source": [
    "state_abbrev = {'California' : 'CA',\n",
    "               'New York' : 'NY',\n",
    "               'Illinois': 'IL',\n",
    "               'Florida' : 'FL',\n",
    "               'Nebraska' : 'NE'}\n",
    "\n",
    "# Function to apply\n",
    "def abbreviate_state(patient):\n",
    "    '''\n",
    "        Changing the full name state to abbreviation.\n",
    "        INPUT:\n",
    "        patient: Patients' dataset.\n",
    "        OUTPUT:\n",
    "        abbrev: New states' name. Str. The output, if the conditions has been respected, will be the abbreviation of states'name.\n",
    "    '''\n",
    "    if patient['state'] in state_abbrev.keys():\n",
    "        abbrev = state_abbrev[patient['state']]\n",
    "        return abbrev\n",
    "    else:\n",
    "        return patient['state']\n",
    "patients_clean['state'] = patients_clean.apply(abbreviate_state, axis=1)"
   ]
  },
  {
   "cell_type": "markdown",
   "metadata": {},
   "source": [
    "#### Test"
   ]
  },
  {
   "cell_type": "code",
   "execution_count": 39,
   "metadata": {},
   "outputs": [
    {
     "data": {
      "text/plain": [
       "CA    60\n",
       "NY    47\n",
       "TX    32\n",
       "IL    24\n",
       "MA    22\n",
       "FL    22\n",
       "PA    18\n",
       "GA    15\n",
       "OH    14\n",
       "MI    13\n",
       "LA    13\n",
       "OK    13\n",
       "NJ    12\n",
       "VA    11\n",
       "WI    10\n",
       "MS    10\n",
       "IN     9\n",
       "TN     9\n",
       "AL     9\n",
       "MN     9\n",
       "NC     8\n",
       "KY     8\n",
       "WA     8\n",
       "MO     7\n",
       "NE     6\n",
       "KS     6\n",
       "NV     6\n",
       "ID     6\n",
       "IA     5\n",
       "CT     5\n",
       "SC     5\n",
       "AZ     4\n",
       "AR     4\n",
       "ME     4\n",
       "CO     4\n",
       "ND     4\n",
       "RI     4\n",
       "WV     3\n",
       "MD     3\n",
       "SD     3\n",
       "DE     3\n",
       "OR     3\n",
       "DC     2\n",
       "MT     2\n",
       "VT     2\n",
       "AK     1\n",
       "NM     1\n",
       "WY     1\n",
       "NH     1\n",
       "Name: state, dtype: int64"
      ]
     },
     "execution_count": 39,
     "metadata": {},
     "output_type": "execute_result"
    }
   ],
   "source": [
    "patients_clean.state.value_counts()"
   ]
  },
  {
   "cell_type": "markdown",
   "metadata": {},
   "source": [
    "##### Dsvid Gustafsson"
   ]
  },
  {
   "cell_type": "markdown",
   "metadata": {},
   "source": [
    "#### Define"
   ]
  },
  {
   "cell_type": "markdown",
   "metadata": {},
   "source": [
    "Replace given name for rows in the `patients`table that have given name of 'Dsvid' with 'David'"
   ]
  },
  {
   "cell_type": "markdown",
   "metadata": {},
   "source": [
    "#### Code"
   ]
  },
  {
   "cell_type": "code",
   "execution_count": 40,
   "metadata": {},
   "outputs": [],
   "source": [
    "patients_clean.given_name = patients_clean.given_name.replace('Dsvid', 'David')"
   ]
  },
  {
   "cell_type": "markdown",
   "metadata": {},
   "source": [
    "#### Test"
   ]
  },
  {
   "cell_type": "code",
   "execution_count": 43,
   "metadata": {},
   "outputs": [
    {
     "data": {
      "text/html": [
       "<div>\n",
       "<style scoped>\n",
       "    .dataframe tbody tr th:only-of-type {\n",
       "        vertical-align: middle;\n",
       "    }\n",
       "\n",
       "    .dataframe tbody tr th {\n",
       "        vertical-align: top;\n",
       "    }\n",
       "\n",
       "    .dataframe thead th {\n",
       "        text-align: right;\n",
       "    }\n",
       "</style>\n",
       "<table border=\"1\" class=\"dataframe\">\n",
       "  <thead>\n",
       "    <tr style=\"text-align: right;\">\n",
       "      <th></th>\n",
       "      <th>patient_id</th>\n",
       "      <th>assigned_sex</th>\n",
       "      <th>given_name</th>\n",
       "      <th>surname</th>\n",
       "      <th>address</th>\n",
       "      <th>city</th>\n",
       "      <th>state</th>\n",
       "      <th>zip_code</th>\n",
       "      <th>country</th>\n",
       "      <th>birthdate</th>\n",
       "      <th>weight</th>\n",
       "      <th>height</th>\n",
       "      <th>bmi</th>\n",
       "      <th>phone_number</th>\n",
       "      <th>email</th>\n",
       "    </tr>\n",
       "  </thead>\n",
       "  <tbody>\n",
       "    <tr>\n",
       "      <th>8</th>\n",
       "      <td>9</td>\n",
       "      <td>male</td>\n",
       "      <td>David</td>\n",
       "      <td>Gustafsson</td>\n",
       "      <td>1790 Nutter Street</td>\n",
       "      <td>Kansas City</td>\n",
       "      <td>MO</td>\n",
       "      <td>64105</td>\n",
       "      <td>United States</td>\n",
       "      <td>3/6/1937</td>\n",
       "      <td>163.9</td>\n",
       "      <td>66</td>\n",
       "      <td>26.5</td>\n",
       "      <td>816-265-9578</td>\n",
       "      <td>DavidGustafsson@armyspy.com</td>\n",
       "    </tr>\n",
       "  </tbody>\n",
       "</table>\n",
       "</div>"
      ],
      "text/plain": [
       "   patient_id assigned_sex given_name     surname             address  \\\n",
       "8           9         male      David  Gustafsson  1790 Nutter Street   \n",
       "\n",
       "          city state zip_code        country birthdate  weight  height   bmi  \\\n",
       "8  Kansas City    MO    64105  United States  3/6/1937   163.9      66  26.5   \n",
       "\n",
       "   phone_number                        email  \n",
       "8  816-265-9578  DavidGustafsson@armyspy.com  "
      ]
     },
     "execution_count": 43,
     "metadata": {},
     "output_type": "execute_result"
    }
   ],
   "source": [
    "patients_clean[patients_clean.surname == 'Gustafsson']"
   ]
  },
  {
   "cell_type": "markdown",
   "metadata": {},
   "source": [
    "##### Erroneous datatypes (assigned sex, state, zip_code and birthdate columns) and Erroneous datatypes (Auralin and Novodra columns) and the letter 'u' in starting and ending doeses for Auralin and Novodra"
   ]
  },
  {
   "cell_type": "markdown",
   "metadata": {},
   "source": [
    "#### Define"
   ]
  },
  {
   "cell_type": "markdown",
   "metadata": {},
   "source": [
    "Convert assigned sex and state to categorical data types. Zip code data type was already addressed above. Convert birthdate to datetime data type. Strip the letter 'u' in start dose and end dose and convert those columns to data type integer."
   ]
  },
  {
   "cell_type": "markdown",
   "metadata": {},
   "source": [
    "#### Code"
   ]
  },
  {
   "cell_type": "code",
   "execution_count": 47,
   "metadata": {},
   "outputs": [],
   "source": [
    "# To datetime\n",
    "patients_clean.birthdate = pd.to_datetime(patients_clean.birthdate)"
   ]
  },
  {
   "cell_type": "code",
   "execution_count": null,
   "metadata": {},
   "outputs": [],
   "source": [
    "# To category\n",
    "patients_clean.assigned_sex = patients_clean.assigned_sex.astype('category')\n",
    "patients_clean.state = patients_clean.state.astype('category')\n",
    "\n",
    "# Strip u and to integer\n",
    "treatments_clean.dose_start = treatments_clean.dose_start.str.strip('u').astype(int)\n",
    "treatments_clean.dose_end = treatments_clean.dose_end.str.strip('u').astype(int)"
   ]
  },
  {
   "cell_type": "markdown",
   "metadata": {},
   "source": [
    "#### Test"
   ]
  },
  {
   "cell_type": "code",
   "execution_count": 48,
   "metadata": {},
   "outputs": [
    {
     "name": "stdout",
     "output_type": "stream",
     "text": [
      "<class 'pandas.core.frame.DataFrame'>\n",
      "RangeIndex: 503 entries, 0 to 502\n",
      "Data columns (total 15 columns):\n",
      "patient_id      503 non-null int64\n",
      "assigned_sex    503 non-null category\n",
      "given_name      503 non-null object\n",
      "surname         503 non-null object\n",
      "address         491 non-null object\n",
      "city            491 non-null object\n",
      "state           491 non-null category\n",
      "zip_code        491 non-null object\n",
      "country         491 non-null object\n",
      "birthdate       503 non-null datetime64[ns]\n",
      "weight          503 non-null float64\n",
      "height          503 non-null int64\n",
      "bmi             503 non-null float64\n",
      "phone_number    491 non-null object\n",
      "email           491 non-null object\n",
      "dtypes: category(2), datetime64[ns](1), float64(2), int64(2), object(8)\n",
      "memory usage: 53.9+ KB\n"
     ]
    }
   ],
   "source": [
    "patients_clean.info()"
   ]
  },
  {
   "cell_type": "markdown",
   "metadata": {},
   "source": [
    "##### Multiple phone number formats"
   ]
  },
  {
   "cell_type": "markdown",
   "metadata": {},
   "source": [
    "#### Define"
   ]
  },
  {
   "cell_type": "markdown",
   "metadata": {},
   "source": [
    "Strip all \" \", \"-\", \"(\", \")\", and \"+\" and store each number without any formatting. Pad the phone number with a 1 if the length of the number is 10 digits (we want country code)."
   ]
  },
  {
   "cell_type": "markdown",
   "metadata": {},
   "source": [
    "#### Code"
   ]
  },
  {
   "cell_type": "code",
   "execution_count": 49,
   "metadata": {},
   "outputs": [],
   "source": [
    "patients_clean.phone_number = patients_clean.phone_number.str.replace(r'\\D+', '').str.pad(11, fillchar='1')"
   ]
  },
  {
   "cell_type": "markdown",
   "metadata": {},
   "source": [
    "#### Test"
   ]
  },
  {
   "cell_type": "code",
   "execution_count": 51,
   "metadata": {},
   "outputs": [
    {
     "data": {
      "text/plain": [
       "0    19517199170\n",
       "1    12175693204\n",
       "2    14023636804\n",
       "3    17326368246\n",
       "4    13345157487\n",
       "Name: phone_number, dtype: object"
      ]
     },
     "execution_count": 51,
     "metadata": {},
     "output_type": "execute_result"
    }
   ],
   "source": [
    "patients_clean.phone_number.head()"
   ]
  },
  {
   "cell_type": "markdown",
   "metadata": {},
   "source": [
    "#### Default John Doe data"
   ]
  },
  {
   "cell_type": "markdown",
   "metadata": {},
   "source": [
    "#### Define\n",
    "Remove the non-recoverable John Doe records from the `patients` table."
   ]
  },
  {
   "cell_type": "markdown",
   "metadata": {},
   "source": [
    "#### Code"
   ]
  },
  {
   "cell_type": "code",
   "execution_count": 52,
   "metadata": {},
   "outputs": [],
   "source": [
    "patients_clean = patients_clean[patients_clean.surname != 'Doe']"
   ]
  },
  {
   "cell_type": "markdown",
   "metadata": {},
   "source": [
    "#### Test"
   ]
  },
  {
   "cell_type": "code",
   "execution_count": 53,
   "metadata": {},
   "outputs": [
    {
     "data": {
      "text/plain": [
       "Taylor           3\n",
       "Jakobsen         3\n",
       "Schiavone        2\n",
       "Liễu             2\n",
       "Hueber           2\n",
       "Collins          2\n",
       "Kowalczyk        2\n",
       "Correia          2\n",
       "Kadyrov          2\n",
       "Lâm              2\n",
       "Silva            2\n",
       "Tạ               2\n",
       "Cindrić          2\n",
       "Nilsen           2\n",
       "Grímsdóttir      2\n",
       "Parker           2\n",
       "Souza            2\n",
       "Bùi              2\n",
       "Woźniak          2\n",
       "Gersten          2\n",
       "Cabrera          2\n",
       "Johnson          2\n",
       "Batukayev        2\n",
       "Ogochukwu        2\n",
       "Tucker           2\n",
       "Dratchev         2\n",
       "Aranda           2\n",
       "Berg             2\n",
       "Lund             2\n",
       "Lương            2\n",
       "                ..\n",
       "﻿Dvořák          1\n",
       "Gormanston       1\n",
       "Ch'eng           1\n",
       "Tikhonov         1\n",
       "Balagić          1\n",
       "Cotton           1\n",
       "Luman            1\n",
       "Gaber            1\n",
       "Sykes            1\n",
       "Reilly           1\n",
       "Roy              1\n",
       "Kos              1\n",
       "Adams            1\n",
       "Miranda          1\n",
       "Tryggvadóttir    1\n",
       "Sung             1\n",
       "Tar              1\n",
       "Svensson         1\n",
       "Vesecká          1\n",
       "Ghanem           1\n",
       "Guðjónsdóttir    1\n",
       "Mueller          1\n",
       "Luwam            1\n",
       "Fournier         1\n",
       "Oates            1\n",
       "Amari            1\n",
       "van de Wiel      1\n",
       "Kinfe            1\n",
       "Gegič            1\n",
       "Holm             1\n",
       "Name: surname, Length: 465, dtype: int64"
      ]
     },
     "execution_count": 53,
     "metadata": {},
     "output_type": "execute_result"
    }
   ],
   "source": [
    "# Should be no Doe records\n",
    "patients_clean.surname.value_counts()"
   ]
  },
  {
   "cell_type": "markdown",
   "metadata": {},
   "source": [
    "##### Multiple records for Jakobsen, Gersten, Taylor"
   ]
  },
  {
   "cell_type": "markdown",
   "metadata": {},
   "source": [
    "##### Define\n",
    "Remove the Jake Jakobsen, Pat Gersten, and Sandy Taylor rows from the `patients` table. These are the nicknames, which happen to also not be in the `treatments` table (removing the wrong name would create a consistency issue between the `patients` and `treatments` table). These are all the second occurrence of the duplicate. These are also the only occurences of non-null duplicate addresses."
   ]
  },
  {
   "cell_type": "markdown",
   "metadata": {},
   "source": [
    "#### Code"
   ]
  },
  {
   "cell_type": "code",
   "execution_count": 54,
   "metadata": {},
   "outputs": [],
   "source": [
    "# tilde means not: http://pandas.pydata.org/pandas-docs/stable/indexing.html#boolean-indexing\n",
    "patients_clean = patients_clean[~((patients_clean.address.duplicated()) & patients_clean.address.notnull())]"
   ]
  },
  {
   "cell_type": "markdown",
   "metadata": {},
   "source": [
    "#### Test"
   ]
  },
  {
   "cell_type": "code",
   "execution_count": 56,
   "metadata": {},
   "outputs": [
    {
     "data": {
      "text/html": [
       "<div>\n",
       "<style scoped>\n",
       "    .dataframe tbody tr th:only-of-type {\n",
       "        vertical-align: middle;\n",
       "    }\n",
       "\n",
       "    .dataframe tbody tr th {\n",
       "        vertical-align: top;\n",
       "    }\n",
       "\n",
       "    .dataframe thead th {\n",
       "        text-align: right;\n",
       "    }\n",
       "</style>\n",
       "<table border=\"1\" class=\"dataframe\">\n",
       "  <thead>\n",
       "    <tr style=\"text-align: right;\">\n",
       "      <th></th>\n",
       "      <th>patient_id</th>\n",
       "      <th>assigned_sex</th>\n",
       "      <th>given_name</th>\n",
       "      <th>surname</th>\n",
       "      <th>address</th>\n",
       "      <th>city</th>\n",
       "      <th>state</th>\n",
       "      <th>zip_code</th>\n",
       "      <th>country</th>\n",
       "      <th>birthdate</th>\n",
       "      <th>weight</th>\n",
       "      <th>height</th>\n",
       "      <th>bmi</th>\n",
       "      <th>phone_number</th>\n",
       "      <th>email</th>\n",
       "    </tr>\n",
       "  </thead>\n",
       "  <tbody>\n",
       "    <tr>\n",
       "      <th>24</th>\n",
       "      <td>25</td>\n",
       "      <td>male</td>\n",
       "      <td>Jakob</td>\n",
       "      <td>Jakobsen</td>\n",
       "      <td>648 Old Dear Lane</td>\n",
       "      <td>Port Jervis</td>\n",
       "      <td>NY</td>\n",
       "      <td>12771</td>\n",
       "      <td>United States</td>\n",
       "      <td>1985-08-01</td>\n",
       "      <td>155.8</td>\n",
       "      <td>67</td>\n",
       "      <td>24.4</td>\n",
       "      <td>18458587707</td>\n",
       "      <td>JakobCJakobsen@einrot.com</td>\n",
       "    </tr>\n",
       "    <tr>\n",
       "      <th>432</th>\n",
       "      <td>433</td>\n",
       "      <td>female</td>\n",
       "      <td>Karen</td>\n",
       "      <td>Jakobsen</td>\n",
       "      <td>1690 Fannie Street</td>\n",
       "      <td>Houston</td>\n",
       "      <td>TX</td>\n",
       "      <td>77020</td>\n",
       "      <td>United States</td>\n",
       "      <td>1962-11-25</td>\n",
       "      <td>185.2</td>\n",
       "      <td>67</td>\n",
       "      <td>29.0</td>\n",
       "      <td>19792030438</td>\n",
       "      <td>KarenJakobsen@jourrapide.com</td>\n",
       "    </tr>\n",
       "  </tbody>\n",
       "</table>\n",
       "</div>"
      ],
      "text/plain": [
       "     patient_id assigned_sex given_name   surname             address  \\\n",
       "24           25         male      Jakob  Jakobsen   648 Old Dear Lane   \n",
       "432         433       female      Karen  Jakobsen  1690 Fannie Street   \n",
       "\n",
       "            city state zip_code        country  birthdate  weight  height  \\\n",
       "24   Port Jervis    NY    12771  United States 1985-08-01   155.8      67   \n",
       "432      Houston    TX    77020  United States 1962-11-25   185.2      67   \n",
       "\n",
       "      bmi phone_number                         email  \n",
       "24   24.4  18458587707     JakobCJakobsen@einrot.com  \n",
       "432  29.0  19792030438  KarenJakobsen@jourrapide.com  "
      ]
     },
     "execution_count": 56,
     "metadata": {},
     "output_type": "execute_result"
    }
   ],
   "source": [
    "patients_clean[patients_clean.surname == 'Jakobsen']"
   ]
  },
  {
   "cell_type": "markdown",
   "metadata": {},
   "source": [
    "##### kgs instead of lbs for Zaitseva weight"
   ]
  },
  {
   "cell_type": "markdown",
   "metadata": {},
   "source": [
    "#### Define\n",
    "Use [advanced indexing](https://stackoverflow.com/a/44913631) to isolate the row where the surname is Zaitseva and convert the entry in its weight field from kg to lbs."
   ]
  },
  {
   "cell_type": "markdown",
   "metadata": {},
   "source": [
    "#### Code"
   ]
  },
  {
   "cell_type": "code",
   "execution_count": 57,
   "metadata": {},
   "outputs": [],
   "source": [
    "weight_kg = patients_clean.weight.min()\n",
    "mask = patients_clean.surname == 'Zaitseva'\n",
    "column_name = 'weight'\n",
    "patients_clean.loc[mask, column_name] = weight_kg * 2.20462"
   ]
  },
  {
   "cell_type": "markdown",
   "metadata": {},
   "source": [
    "#### Test"
   ]
  },
  {
   "cell_type": "code",
   "execution_count": 58,
   "metadata": {},
   "outputs": [
    {
     "data": {
      "text/plain": [
       "459    102.100000\n",
       "335    102.700000\n",
       "74     103.200000\n",
       "317    106.000000\n",
       "171    106.500000\n",
       "51     107.100000\n",
       "210    107.585456\n",
       "270    108.100000\n",
       "198    108.500000\n",
       "48     109.100000\n",
       "478    109.600000\n",
       "141    110.200000\n",
       "38     111.800000\n",
       "438    112.000000\n",
       "14     112.000000\n",
       "235    112.200000\n",
       "307    112.400000\n",
       "191    112.600000\n",
       "408    113.100000\n",
       "49     113.300000\n",
       "326    114.000000\n",
       "338    114.100000\n",
       "253    117.000000\n",
       "321    118.400000\n",
       "168    118.800000\n",
       "1      118.800000\n",
       "350    119.000000\n",
       "207    119.200000\n",
       "265    120.000000\n",
       "341    120.300000\n",
       "          ...    \n",
       "332    224.000000\n",
       "12     224.200000\n",
       "252    224.200000\n",
       "222    224.800000\n",
       "166    225.300000\n",
       "111    225.900000\n",
       "101    226.200000\n",
       "150    226.600000\n",
       "88     227.700000\n",
       "352    227.700000\n",
       "428    227.700000\n",
       "13     228.400000\n",
       "339    229.000000\n",
       "182    230.300000\n",
       "121    230.800000\n",
       "257    231.700000\n",
       "395    231.900000\n",
       "246    232.100000\n",
       "219    237.800000\n",
       "11     238.700000\n",
       "50     238.900000\n",
       "441    239.100000\n",
       "499    239.600000\n",
       "439    242.000000\n",
       "487    242.400000\n",
       "144    244.900000\n",
       "61     244.900000\n",
       "283    245.500000\n",
       "118    254.500000\n",
       "485    255.900000\n",
       "Name: weight, Length: 494, dtype: float64"
      ]
     },
     "execution_count": 58,
     "metadata": {},
     "output_type": "execute_result"
    }
   ],
   "source": [
    "# 48.8 shouldn't be the lowest anymore\n",
    "patients_clean.weight.sort_values()"
   ]
  },
  {
   "cell_type": "code",
   "execution_count": null,
   "metadata": {},
   "outputs": [],
   "source": []
  }
 ],
 "metadata": {
  "kernelspec": {
   "display_name": "Python 3",
   "language": "python",
   "name": "python3"
  },
  "language_info": {
   "codemirror_mode": {
    "name": "ipython",
    "version": 3
   },
   "file_extension": ".py",
   "mimetype": "text/x-python",
   "name": "python",
   "nbconvert_exporter": "python",
   "pygments_lexer": "ipython3",
   "version": "3.6.5"
  }
 },
 "nbformat": 4,
 "nbformat_minor": 2
}
