{
 "cells": [
  {
   "cell_type": "code",
   "execution_count": 2,
   "metadata": {},
   "outputs": [],
   "source": [
    "import wptools"
   ]
  },
  {
   "cell_type": "code",
   "execution_count": 17,
   "metadata": {},
   "outputs": [
    {
     "name": "stderr",
     "output_type": "stream",
     "text": [
      "en.wikipedia.org (parse) E.T._the_Extra-Terrestrial\n",
      "en.wikipedia.org (imageinfo) File:E t the extra terrestrial ver3.jpg\n",
      "E.T. the Extra-Terrestrial (en) data\n",
      "{\n",
      "  image: <list(1)> {'kind': 'parse-image', 'file': 'File:E t the e...\n",
      "  infobox: <dict(18)> name, image, caption, director, producers, w...\n",
      "  iwlinks: <list(6)> https://commons.wikimedia.org/wiki/Category:E...\n",
      "  pageid: 73441\n",
      "  parsetree: <str(99968)> <root><template><title>Redirect</title><...\n",
      "  requests: <list(2)> parse, imageinfo\n",
      "  title: E.T. the Extra-Terrestrial\n",
      "  wikibase: Q11621\n",
      "  wikidata_url: https://www.wikidata.org/wiki/Q11621\n",
      "  wikitext: <str(79736)> {{Redirect|E.T.|other uses|ET (disambigua...\n",
      "}\n"
     ]
    }
   ],
   "source": [
    "page = wptools.page('E.T._the_Extra-Terrestrial').get_parse()"
   ]
  },
  {
   "cell_type": "code",
   "execution_count": 13,
   "metadata": {},
   "outputs": [
    {
     "data": {
      "text/plain": [
       "[{'kind': 'parse-image',\n",
       "  'file': 'File:E t the extra terrestrial ver3.jpg',\n",
       "  'orig': 'E t the extra terrestrial ver3.jpg',\n",
       "  'timestamp': '2016-06-04T10:30:46Z',\n",
       "  'size': 83073,\n",
       "  'width': 253,\n",
       "  'height': 394,\n",
       "  'url': 'https://upload.wikimedia.org/wikipedia/en/6/66/E_t_the_extra_terrestrial_ver3.jpg',\n",
       "  'descriptionurl': 'https://en.wikipedia.org/wiki/File:E_t_the_extra_terrestrial_ver3.jpg',\n",
       "  'descriptionshorturl': 'https://en.wikipedia.org/w/index.php?curid=7419503',\n",
       "  'title': 'File:E t the extra terrestrial ver3.jpg',\n",
       "  'metadata': {'DateTime': {'value': '2016-06-04 10:30:46',\n",
       "    'source': 'mediawiki-metadata',\n",
       "    'hidden': ''},\n",
       "   'ObjectName': {'value': 'E t the extra terrestrial ver3',\n",
       "    'source': 'mediawiki-metadata',\n",
       "    'hidden': ''},\n",
       "   'CommonsMetadataExtension': {'value': 1.2,\n",
       "    'source': 'extension',\n",
       "    'hidden': ''},\n",
       "   'Categories': {'value': 'All non-free media|E.T. the Extra-Terrestrial|Fair use images of movie posters|Files with no machine-readable author|Files with no machine-readable description|Files with no machine-readable license|Files with no machine-readable source|Noindexed pages|Non-free images for NFUR review|Non-free posters',\n",
       "    'source': 'commons-categories',\n",
       "    'hidden': ''},\n",
       "   'Assessments': {'value': '', 'source': 'commons-categories', 'hidden': ''},\n",
       "   'NonFree': {'value': 'true', 'source': 'commons-desc-page', 'hidden': ''},\n",
       "   'Restrictions': {'value': '',\n",
       "    'source': 'commons-desc-page',\n",
       "    'hidden': ''}}},\n",
       " {'file': 'File:ET logo 3.svg',\n",
       "  'kind': 'wikidata-image',\n",
       "  'orig': 'ET logo 3.svg',\n",
       "  'timestamp': '2011-05-14T20:38:17Z',\n",
       "  'size': 77290,\n",
       "  'width': 512,\n",
       "  'height': 380,\n",
       "  'url': 'https://upload.wikimedia.org/wikipedia/commons/8/85/ET_logo_3.svg',\n",
       "  'descriptionurl': 'https://commons.wikimedia.org/wiki/File:ET_logo_3.svg',\n",
       "  'descriptionshorturl': 'https://commons.wikimedia.org/w/index.php?curid=14138952',\n",
       "  'title': 'File:ET logo 3.svg',\n",
       "  'metadata': {'DateTime': {'value': '2011-05-14 20:38:17',\n",
       "    'source': 'mediawiki-metadata',\n",
       "    'hidden': ''},\n",
       "   'ObjectName': {'value': 'ET logo 3',\n",
       "    'source': 'mediawiki-metadata',\n",
       "    'hidden': ''},\n",
       "   'CommonsMetadataExtension': {'value': 1.2,\n",
       "    'source': 'extension',\n",
       "    'hidden': ''},\n",
       "   'Categories': {'value': 'E.T. the Extra-Terrestrial|PD ineligible|With trademark',\n",
       "    'source': 'commons-categories',\n",
       "    'hidden': ''},\n",
       "   'Assessments': {'value': '', 'source': 'commons-categories', 'hidden': ''},\n",
       "   'ImageDescription': {'value': 'Opening logo to the <a href=\"https://en.wikipedia.org/wiki/E.T._the_Extra-Terrestrial\" class=\"extiw\" title=\"en:E.T. the Extra-Terrestrial\">en:E.T. the Extra-Terrestrial</a> film',\n",
       "    'source': 'commons-desc-page'},\n",
       "   'DateTimeOriginal': {'value': '2011-02-28', 'source': 'commons-desc-page'},\n",
       "   'Credit': {'value': 'Transferred from <a class=\"external text\" href=\"http://en.wikipedia.org\">en.wikipedia</a>',\n",
       "    'source': 'commons-desc-page',\n",
       "    'hidden': ''},\n",
       "   'Artist': {'value': '<a href=\"https://en.wikipedia.org/wiki/en:User:TheCuriousGnome\" class=\"extiw\" title=\"w:en:User:TheCuriousGnome\">User:TheCuriousGnome</a>',\n",
       "    'source': 'commons-desc-page'},\n",
       "   'LicenseShortName': {'value': 'Public domain',\n",
       "    'source': 'commons-desc-page',\n",
       "    'hidden': ''},\n",
       "   'UsageTerms': {'value': 'Public domain',\n",
       "    'source': 'commons-desc-page',\n",
       "    'hidden': ''},\n",
       "   'AttributionRequired': {'value': 'false',\n",
       "    'source': 'commons-desc-page',\n",
       "    'hidden': ''},\n",
       "   'Copyrighted': {'value': 'False',\n",
       "    'source': 'commons-desc-page',\n",
       "    'hidden': ''},\n",
       "   'Restrictions': {'value': 'trademarked',\n",
       "    'source': 'commons-desc-page',\n",
       "    'hidden': ''},\n",
       "   'License': {'value': 'pd', 'source': 'commons-templates', 'hidden': ''}}},\n",
       " {'kind': 'restbase-original',\n",
       "  'width': 253,\n",
       "  'height': 394,\n",
       "  'url': 'https://upload.wikimedia.org/wikipedia/en/6/66/E_t_the_extra_terrestrial_ver3.jpg',\n",
       "  'file': 'File:E t the extra terrestrial ver3.jpg',\n",
       "  'orig': 'E_t_the_extra_terrestrial_ver3.jpg'},\n",
       " {'kind': 'restbase-thumb',\n",
       "  'width': 205,\n",
       "  'height': 320,\n",
       "  'url': 'https://upload.wikimedia.org/wikipedia/en/thumb/6/66/E_t_the_extra_terrestrial_ver3.jpg/205px-E_t_the_extra_terrestrial_ver3.jpg',\n",
       "  'file': 'File:205px-E t the extra terrestrial ver3.jpg',\n",
       "  'orig': '205px-E_t_the_extra_terrestrial_ver3.jpg'}]"
      ]
     },
     "execution_count": 13,
     "metadata": {},
     "output_type": "execute_result"
    }
   ],
   "source": [
    "page.data['image']"
   ]
  },
  {
   "cell_type": "code",
   "execution_count": 26,
   "metadata": {},
   "outputs": [
    {
     "data": {
      "text/plain": [
       "{'name': 'E.T. the Extra-Terrestrial',\n",
       " 'image': 'E t the extra terrestrial ver3.jpg',\n",
       " 'caption': 'Theatrical release poster, designed by [[John Alvin]]',\n",
       " 'director': '[[Steven Spielberg]]',\n",
       " 'producers': '{{ubl|[[Kathleen Kennedy (producer)|Kathleen Kennedy]]|Steven Spielberg}}',\n",
       " 'writer': '[[Melissa Mathison]]',\n",
       " 'starring': '{{Plainlist|\\n* [[Dee Wallace]]\\n* [[Peter Coyote]]\\n* [[Henry Thomas]]}}',\n",
       " 'music': '[[John Williams]]',\n",
       " 'cinematography': '[[Allen Daviau]]',\n",
       " 'editing': '[[Carol Littleton]]',\n",
       " 'studio': '[[Universal Studios|Universal Pictures]]<br>[[Amblin Entertainment]]',\n",
       " 'distributor': 'Universal Pictures',\n",
       " 'released': '{{Film date|1982|05|26|[[1982 Cannes Film Festival|Cannes]]|1982|06|11|United States}}',\n",
       " 'runtime': '114 minutes',\n",
       " 'country': 'United States',\n",
       " 'language': 'English',\n",
       " 'budget': '$10.5 million',\n",
       " 'gross': '$792.9 million'}"
      ]
     },
     "execution_count": 26,
     "metadata": {},
     "output_type": "execute_result"
    }
   ],
   "source": [
    "infobox_json = page.data['infobox']\n",
    "infobox_json"
   ]
  },
  {
   "cell_type": "code",
   "execution_count": 29,
   "metadata": {},
   "outputs": [
    {
     "data": {
      "text/plain": [
       "'{{Film date|1982|05|26|[[1982 Cannes Film Festival|Cannes]]|1982|06|11|United States}}'"
      ]
     },
     "execution_count": 29,
     "metadata": {},
     "output_type": "execute_result"
    }
   ],
   "source": [
    "infobox_json['released']"
   ]
  },
  {
   "cell_type": "code",
   "execution_count": 30,
   "metadata": {},
   "outputs": [
    {
     "data": {
      "text/plain": [
       "'Theatrical release poster, designed by [[John Alvin]]'"
      ]
     },
     "execution_count": 30,
     "metadata": {},
     "output_type": "execute_result"
    }
   ],
   "source": [
    "infobox_json['caption']"
   ]
  },
  {
   "cell_type": "code",
   "execution_count": 31,
   "metadata": {},
   "outputs": [
    {
     "data": {
      "text/plain": [
       "'T'"
      ]
     },
     "execution_count": 31,
     "metadata": {},
     "output_type": "execute_result"
    }
   ],
   "source": [
    "infobox_json['caption']["
   ]
  },
  {
   "cell_type": "code",
   "execution_count": null,
   "metadata": {},
   "outputs": [],
   "source": []
  }
 ],
 "metadata": {
  "kernelspec": {
   "display_name": "Python 3",
   "language": "python",
   "name": "python3"
  },
  "language_info": {
   "codemirror_mode": {
    "name": "ipython",
    "version": 3
   },
   "file_extension": ".py",
   "mimetype": "text/x-python",
   "name": "python",
   "nbconvert_exporter": "python",
   "pygments_lexer": "ipython3",
   "version": "3.7.1"
  }
 },
 "nbformat": 4,
 "nbformat_minor": 2
}
